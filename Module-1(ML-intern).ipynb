{
 "cells": [
  {
   "cell_type": "code",
   "execution_count": 1,
   "metadata": {},
   "outputs": [],
   "source": [
    "import pandas as pd"
   ]
  },
  {
   "cell_type": "code",
   "execution_count": 2,
   "metadata": {},
   "outputs": [],
   "source": [
    "dataframe = pd.read_csv('/home/deepak/Documents/AMZN.csv')"
   ]
  },
  {
   "cell_type": "code",
   "execution_count": 3,
   "metadata": {},
   "outputs": [],
   "source": [
    "data = dataframe.copy()"
   ]
  },
  {
   "cell_type": "code",
   "execution_count": 4,
   "metadata": {},
   "outputs": [
    {
     "data": {
      "text/plain": [
       "Index(['Date', 'Close Price', 'Open Price', 'High Price', 'Low Price',\n",
       "       'Total Traded Quantity'],\n",
       "      dtype='object')"
      ]
     },
     "execution_count": 4,
     "metadata": {},
     "output_type": "execute_result"
    }
   ],
   "source": [
    "data.shape\n",
    "data.columns"
   ]
  },
  {
   "cell_type": "code",
   "execution_count": 5,
   "metadata": {
    "scrolled": true
   },
   "outputs": [
    {
     "data": {
      "text/html": [
       "<div>\n",
       "<style scoped>\n",
       "    .dataframe tbody tr th:only-of-type {\n",
       "        vertical-align: middle;\n",
       "    }\n",
       "\n",
       "    .dataframe tbody tr th {\n",
       "        vertical-align: top;\n",
       "    }\n",
       "\n",
       "    .dataframe thead th {\n",
       "        text-align: right;\n",
       "    }\n",
       "</style>\n",
       "<table border=\"1\" class=\"dataframe\">\n",
       "  <thead>\n",
       "    <tr style=\"text-align: right;\">\n",
       "      <th></th>\n",
       "      <th>Date</th>\n",
       "      <th>Close Price</th>\n",
       "      <th>Open Price</th>\n",
       "      <th>High Price</th>\n",
       "      <th>Low Price</th>\n",
       "      <th>Total Traded Quantity</th>\n",
       "    </tr>\n",
       "  </thead>\n",
       "  <tbody>\n",
       "    <tr>\n",
       "      <th>0</th>\n",
       "      <td>Oct 24, 2019</td>\n",
       "      <td>1,780.78</td>\n",
       "      <td>1,770.78</td>\n",
       "      <td>1,787.97</td>\n",
       "      <td>1,760.78</td>\n",
       "      <td>5.20M</td>\n",
       "    </tr>\n",
       "    <tr>\n",
       "      <th>1</th>\n",
       "      <td>Oct 23, 2019</td>\n",
       "      <td>1,762.17</td>\n",
       "      <td>1,761.30</td>\n",
       "      <td>1,770.05</td>\n",
       "      <td>1,742.00</td>\n",
       "      <td>2.19M</td>\n",
       "    </tr>\n",
       "    <tr>\n",
       "      <th>2</th>\n",
       "      <td>Oct 22, 2019</td>\n",
       "      <td>1,765.73</td>\n",
       "      <td>1,788.15</td>\n",
       "      <td>1,789.78</td>\n",
       "      <td>1,762.00</td>\n",
       "      <td>2.23M</td>\n",
       "    </tr>\n",
       "    <tr>\n",
       "      <th>3</th>\n",
       "      <td>Oct 21, 2019</td>\n",
       "      <td>1,785.66</td>\n",
       "      <td>1,769.66</td>\n",
       "      <td>1,785.88</td>\n",
       "      <td>1,765.00</td>\n",
       "      <td>2.22M</td>\n",
       "    </tr>\n",
       "    <tr>\n",
       "      <th>4</th>\n",
       "      <td>Oct 18, 2019</td>\n",
       "      <td>1,757.51</td>\n",
       "      <td>1,787.80</td>\n",
       "      <td>1,793.98</td>\n",
       "      <td>1,749.20</td>\n",
       "      <td>3.37M</td>\n",
       "    </tr>\n",
       "  </tbody>\n",
       "</table>\n",
       "</div>"
      ],
      "text/plain": [
       "           Date Close Price Open Price High Price Low Price  \\\n",
       "0  Oct 24, 2019    1,780.78   1,770.78   1,787.97  1,760.78   \n",
       "1  Oct 23, 2019    1,762.17   1,761.30   1,770.05  1,742.00   \n",
       "2  Oct 22, 2019    1,765.73   1,788.15   1,789.78  1,762.00   \n",
       "3  Oct 21, 2019    1,785.66   1,769.66   1,785.88  1,765.00   \n",
       "4  Oct 18, 2019    1,757.51   1,787.80   1,793.98  1,749.20   \n",
       "\n",
       "  Total Traded Quantity  \n",
       "0                 5.20M  \n",
       "1                 2.19M  \n",
       "2                 2.23M  \n",
       "3                 2.22M  \n",
       "4                 3.37M  "
      ]
     },
     "execution_count": 5,
     "metadata": {},
     "output_type": "execute_result"
    }
   ],
   "source": [
    "data.head()"
   ]
  },
  {
   "cell_type": "code",
   "execution_count": 20,
   "metadata": {},
   "outputs": [
    {
     "name": "stdout",
     "output_type": "stream",
     "text": [
      "<class 'pandas.core.frame.DataFrame'>\n",
      "RangeIndex: 503 entries, 0 to 502\n",
      "Data columns (total 8 columns):\n",
      " #   Column                 Non-Null Count  Dtype         \n",
      "---  ------                 --------------  -----         \n",
      " 0   Date                   503 non-null    datetime64[ns]\n",
      " 1   Close Price            503 non-null    float64       \n",
      " 2   Open Price             503 non-null    float64       \n",
      " 3   High Price             503 non-null    float64       \n",
      " 4   Low Price              503 non-null    float64       \n",
      " 5   Total Traded Quantity  503 non-null    float64       \n",
      " 6   Month                  503 non-null    int64         \n",
      " 7   Year                   503 non-null    int64         \n",
      "dtypes: datetime64[ns](1), float64(5), int64(2)\n",
      "memory usage: 31.6 KB\n"
     ]
    }
   ],
   "source": [
    "data.dtypes\n",
    "data.info()"
   ]
  },
  {
   "cell_type": "code",
   "execution_count": 7,
   "metadata": {},
   "outputs": [],
   "source": [
    "def Stringtofloat(val):\n",
    "    new = val.replace(',','')\n",
    "    return float(new)\n",
    "def TTQ(val):\n",
    "    new = val.replace('M','')\n",
    "    return float(new)"
   ]
  },
  {
   "cell_type": "code",
   "execution_count": 19,
   "metadata": {},
   "outputs": [],
   "source": [
    "# data['Close Price'] = data['Close Price'].apply(Stringtofloat)\n",
    "# data['Open Price'] = data['Open Price'].apply(Stringtofloat)\n",
    "# data['High Price'] = data['High Price'].apply(Stringtofloat)\n",
    "# data['Open Price'] = data['Open Price'].apply(Stringtofloat)\n",
    "# data['Low Price'] = data['Low Price'].apply(Stringtofloat)\n",
    "# data['Total Traded Quantity'] = data['Total Traded Quantity'].apply(TTQ)\n",
    "# data['Date'] = data['Date'].astype('datetime64[ns]')"
   ]
  },
  {
   "cell_type": "code",
   "execution_count": 9,
   "metadata": {},
   "outputs": [
    {
     "data": {
      "text/plain": [
       "count           90\n",
       "unique          90\n",
       "top       1,939.00\n",
       "freq             1\n",
       "Name: Close Price, dtype: object"
      ]
     },
     "execution_count": 9,
     "metadata": {},
     "output_type": "execute_result"
    }
   ],
   "source": [
    "data['Close Price'][:90].describe()"
   ]
  },
  {
   "cell_type": "code",
   "execution_count": 10,
   "metadata": {},
   "outputs": [
    {
     "data": {
      "text/plain": [
       "0      Oct 24, 2019\n",
       "1      Oct 23, 2019\n",
       "2      Oct 22, 2019\n",
       "3      Oct 21, 2019\n",
       "4      Oct 18, 2019\n",
       "           ...     \n",
       "498    Oct 31, 2017\n",
       "499    Oct 30, 2017\n",
       "500    Oct 27, 2017\n",
       "501    Oct 26, 2017\n",
       "502    Oct 25, 2017\n",
       "Name: Date, Length: 503, dtype: object"
      ]
     },
     "execution_count": 10,
     "metadata": {},
     "output_type": "execute_result"
    }
   ],
   "source": [
    "data['Date']"
   ]
  },
  {
   "cell_type": "code",
   "execution_count": 21,
   "metadata": {
    "scrolled": true
   },
   "outputs": [
    {
     "data": {
      "text/html": [
       "<div>\n",
       "<style scoped>\n",
       "    .dataframe tbody tr th:only-of-type {\n",
       "        vertical-align: middle;\n",
       "    }\n",
       "\n",
       "    .dataframe tbody tr th {\n",
       "        vertical-align: top;\n",
       "    }\n",
       "\n",
       "    .dataframe thead th {\n",
       "        text-align: right;\n",
       "    }\n",
       "</style>\n",
       "<table border=\"1\" class=\"dataframe\">\n",
       "  <thead>\n",
       "    <tr style=\"text-align: right;\">\n",
       "      <th></th>\n",
       "      <th>Date</th>\n",
       "      <th>Close Price</th>\n",
       "      <th>Open Price</th>\n",
       "      <th>High Price</th>\n",
       "      <th>Low Price</th>\n",
       "      <th>Total Traded Quantity</th>\n",
       "      <th>Month</th>\n",
       "      <th>Year</th>\n",
       "    </tr>\n",
       "  </thead>\n",
       "  <tbody>\n",
       "    <tr>\n",
       "      <th>0</th>\n",
       "      <td>2019-10-24</td>\n",
       "      <td>1780.78</td>\n",
       "      <td>1770.78</td>\n",
       "      <td>1787.97</td>\n",
       "      <td>1760.78</td>\n",
       "      <td>5.20</td>\n",
       "      <td>10</td>\n",
       "      <td>2019</td>\n",
       "    </tr>\n",
       "    <tr>\n",
       "      <th>1</th>\n",
       "      <td>2019-10-23</td>\n",
       "      <td>1762.17</td>\n",
       "      <td>1761.30</td>\n",
       "      <td>1770.05</td>\n",
       "      <td>1742.00</td>\n",
       "      <td>2.19</td>\n",
       "      <td>10</td>\n",
       "      <td>2019</td>\n",
       "    </tr>\n",
       "    <tr>\n",
       "      <th>2</th>\n",
       "      <td>2019-10-22</td>\n",
       "      <td>1765.73</td>\n",
       "      <td>1788.15</td>\n",
       "      <td>1789.78</td>\n",
       "      <td>1762.00</td>\n",
       "      <td>2.23</td>\n",
       "      <td>10</td>\n",
       "      <td>2019</td>\n",
       "    </tr>\n",
       "    <tr>\n",
       "      <th>3</th>\n",
       "      <td>2019-10-21</td>\n",
       "      <td>1785.66</td>\n",
       "      <td>1769.66</td>\n",
       "      <td>1785.88</td>\n",
       "      <td>1765.00</td>\n",
       "      <td>2.22</td>\n",
       "      <td>10</td>\n",
       "      <td>2019</td>\n",
       "    </tr>\n",
       "    <tr>\n",
       "      <th>4</th>\n",
       "      <td>2019-10-18</td>\n",
       "      <td>1757.51</td>\n",
       "      <td>1787.80</td>\n",
       "      <td>1793.98</td>\n",
       "      <td>1749.20</td>\n",
       "      <td>3.37</td>\n",
       "      <td>10</td>\n",
       "      <td>2019</td>\n",
       "    </tr>\n",
       "  </tbody>\n",
       "</table>\n",
       "</div>"
      ],
      "text/plain": [
       "        Date  Close Price  Open Price  High Price  Low Price  \\\n",
       "0 2019-10-24      1780.78     1770.78     1787.97    1760.78   \n",
       "1 2019-10-23      1762.17     1761.30     1770.05    1742.00   \n",
       "2 2019-10-22      1765.73     1788.15     1789.78    1762.00   \n",
       "3 2019-10-21      1785.66     1769.66     1785.88    1765.00   \n",
       "4 2019-10-18      1757.51     1787.80     1793.98    1749.20   \n",
       "\n",
       "   Total Traded Quantity  Month  Year  \n",
       "0                   5.20     10  2019  \n",
       "1                   2.19     10  2019  \n",
       "2                   2.23     10  2019  \n",
       "3                   2.22     10  2019  \n",
       "4                   3.37     10  2019  "
      ]
     },
     "execution_count": 21,
     "metadata": {},
     "output_type": "execute_result"
    }
   ],
   "source": [
    "#create dataframe column month and year using existing Date Column\n",
    "data['Month'] = pd.DatetimeIndex(data['Date']).month\n",
    "data['Year'] = pd.DatetimeIndex(data['Date']).year\n",
    "data.head()"
   ]
  },
  {
   "cell_type": "code",
   "execution_count": 22,
   "metadata": {},
   "outputs": [
    {
     "name": "stdout",
     "output_type": "stream",
     "text": [
      "[61929.909999999996, 58316.70999999999, 68520.05, 70022.88000000002, 76214.31000000001, 72727.65, 80727.04000000002, 83110.77999999998, 73337.90000000001, 77695.61999999998, 58071.12999999998, 53006.25]\n"
     ]
    }
   ],
   "source": [
    "# vwap = sum(closing_price*vol)/sum(vol)\n",
    "# VWAP = sum(data['Close Price']*data['Total Traded Quantity'])/sum(data['Total Traded Quantity'])\n",
    "\n",
    "forvwap = data.groupby(['Month']).sum()\n",
    "\n",
    "VWAP = [forvwap['Close Price'][i]*forvwap['Total Traded Quantity'][i]/forvwap['Total Traded Quantity'][i] for i in range(1,13)]\n",
    "print(VWAP)"
   ]
  },
  {
   "cell_type": "code",
   "execution_count": 23,
   "metadata": {},
   "outputs": [],
   "source": [
    "def average_price(days):\n",
    "    return data['Close Price'][:days].mean()\n",
    "def profit_loss(days):\n",
    "    p = 0\n",
    "    for i in range(days):\n",
    "        p += (data['Close Price'][i+1] - data['Close Price'][i])/100\n",
    "    return p"
   ]
  },
  {
   "cell_type": "code",
   "execution_count": 24,
   "metadata": {},
   "outputs": [],
   "source": [
    "data['Day_perc_Change'] = data['Close Price'].pct_change()"
   ]
  },
  {
   "cell_type": "code",
   "execution_count": 25,
   "metadata": {
    "scrolled": true
   },
   "outputs": [
    {
     "data": {
      "text/plain": [
       "1     -0.010450\n",
       "2      0.002020\n",
       "3      0.011287\n",
       "4     -0.015764\n",
       "5      0.017053\n",
       "         ...   \n",
       "498    0.001450\n",
       "499    0.005039\n",
       "500   -0.008912\n",
       "501   -0.116736\n",
       "502    0.000494\n",
       "Name: Day_perc_Change, Length: 502, dtype: float64"
      ]
     },
     "execution_count": 25,
     "metadata": {},
     "output_type": "execute_result"
    }
   ],
   "source": [
    "data['Day_perc_Change'].dropna()"
   ]
  },
  {
   "cell_type": "code",
   "execution_count": 27,
   "metadata": {},
   "outputs": [],
   "source": [
    "data['Day_perc_Change'] = data['Day_perc_Change']*100"
   ]
  },
  {
   "cell_type": "code",
   "execution_count": 54,
   "metadata": {},
   "outputs": [
    {
     "name": "stderr",
     "output_type": "stream",
     "text": [
      "<ipython-input-54-7275d446a43e>:12: SettingWithCopyWarning: \n",
      "A value is trying to be set on a copy of a slice from a DataFrame\n",
      "\n",
      "See the caveats in the documentation: https://pandas.pydata.org/pandas-docs/stable/user_guide/indexing.html#returning-a-view-versus-a-copy\n",
      "  data['Trend'][i] = 'Negative'\n",
      "<ipython-input-54-7275d446a43e>:4: SettingWithCopyWarning: \n",
      "A value is trying to be set on a copy of a slice from a DataFrame\n",
      "\n",
      "See the caveats in the documentation: https://pandas.pydata.org/pandas-docs/stable/user_guide/indexing.html#returning-a-view-versus-a-copy\n",
      "  data['Trend'][i] = 'Slight or No change'\n",
      "<ipython-input-54-7275d446a43e>:10: SettingWithCopyWarning: \n",
      "A value is trying to be set on a copy of a slice from a DataFrame\n",
      "\n",
      "See the caveats in the documentation: https://pandas.pydata.org/pandas-docs/stable/user_guide/indexing.html#returning-a-view-versus-a-copy\n",
      "  data['Trend'][i] = 'Positive'\n",
      "<ipython-input-54-7275d446a43e>:8: SettingWithCopyWarning: \n",
      "A value is trying to be set on a copy of a slice from a DataFrame\n",
      "\n",
      "See the caveats in the documentation: https://pandas.pydata.org/pandas-docs/stable/user_guide/indexing.html#returning-a-view-versus-a-copy\n",
      "  data['Trend'][i] = 'Slight negative'\n",
      "<ipython-input-54-7275d446a43e>:6: SettingWithCopyWarning: \n",
      "A value is trying to be set on a copy of a slice from a DataFrame\n",
      "\n",
      "See the caveats in the documentation: https://pandas.pydata.org/pandas-docs/stable/user_guide/indexing.html#returning-a-view-versus-a-copy\n",
      "  data['Trend'][i] = 'Slight positive'\n",
      "<ipython-input-54-7275d446a43e>:14: SettingWithCopyWarning: \n",
      "A value is trying to be set on a copy of a slice from a DataFrame\n",
      "\n",
      "See the caveats in the documentation: https://pandas.pydata.org/pandas-docs/stable/user_guide/indexing.html#returning-a-view-versus-a-copy\n",
      "  data['Trend'][i] = 'Among top gainers'\n",
      "<ipython-input-54-7275d446a43e>:16: SettingWithCopyWarning: \n",
      "A value is trying to be set on a copy of a slice from a DataFrame\n",
      "\n",
      "See the caveats in the documentation: https://pandas.pydata.org/pandas-docs/stable/user_guide/indexing.html#returning-a-view-versus-a-copy\n",
      "  data['Trend'][i] = 'Among top losers'\n",
      "<ipython-input-54-7275d446a43e>:20: SettingWithCopyWarning: \n",
      "A value is trying to be set on a copy of a slice from a DataFrame\n",
      "\n",
      "See the caveats in the documentation: https://pandas.pydata.org/pandas-docs/stable/user_guide/indexing.html#returning-a-view-versus-a-copy\n",
      "  data['Trend'][i] = 'Bear drop'\n",
      "<ipython-input-54-7275d446a43e>:18: SettingWithCopyWarning: \n",
      "A value is trying to be set on a copy of a slice from a DataFrame\n",
      "\n",
      "See the caveats in the documentation: https://pandas.pydata.org/pandas-docs/stable/user_guide/indexing.html#returning-a-view-versus-a-copy\n",
      "  data['Trend'][i] = 'Bull run'\n"
     ]
    }
   ],
   "source": [
    "i = 0\n",
    "for change in data['Day_perc_Change']:\n",
    "    if -0.5 < change < 0.5:\n",
    "        data['Trend'][i] = 'Slight or No change'\n",
    "    if 0.5 < change < 1:\n",
    "        data['Trend'][i] = 'Slight positive'\n",
    "    if -1 < change < -0.5:\n",
    "        data['Trend'][i] = 'Slight negative'\n",
    "    if 1< change <3:\n",
    "        data['Trend'][i] = 'Positive'\n",
    "    if -3 < change <-1:\n",
    "        data['Trend'][i] = 'Negative'\n",
    "    if 3 < change < 7:\n",
    "        data['Trend'][i] = 'Among top gainers'\n",
    "    if -7< change <-3:\n",
    "        data['Trend'][i] = 'Among top losers'\n",
    "    if change > 7:\n",
    "        data['Trend'][i] = 'Bull run'\n",
    "    if change < -7:\n",
    "        data['Trend'][i] = 'Bear drop'\n",
    "    i += 1 "
   ]
  },
  {
   "cell_type": "code",
   "execution_count": null,
   "metadata": {},
   "outputs": [],
   "source": [
    "data.columns"
   ]
  },
  {
   "cell_type": "code",
   "execution_count": 55,
   "metadata": {},
   "outputs": [
    {
     "data": {
      "text/plain": [
       "0     Slight or No change\n",
       "1                Negative\n",
       "2     Slight or No change\n",
       "3                Positive\n",
       "4                Negative\n",
       "5                Positive\n",
       "6         Slight negative\n",
       "7         Slight negative\n",
       "8                Negative\n",
       "9     Slight or No change\n",
       "10        Slight negative\n",
       "11    Slight or No change\n",
       "12        Slight negative\n",
       "13               Positive\n",
       "14    Slight or No change\n",
       "15        Slight negative\n",
       "16        Slight negative\n",
       "17               Positive\n",
       "18    Slight or No change\n",
       "19        Slight negative\n",
       "Name: Trend, dtype: object"
      ]
     },
     "execution_count": 55,
     "metadata": {},
     "output_type": "execute_result"
    }
   ],
   "source": [
    "data['Trend'].head(20)"
   ]
  },
  {
   "cell_type": "code",
   "execution_count": 56,
   "metadata": {},
   "outputs": [
    {
     "name": "stdout",
     "output_type": "stream",
     "text": [
      "Trend\n",
      "Among top gainers       6.445161\n",
      "Among top losers        7.190000\n",
      "Bear drop               6.420000\n",
      "Bull run               10.290000\n",
      "Negative                4.891727\n",
      "Positive                5.060746\n",
      "Slight negative         4.368082\n",
      "Slight or No change     4.188966\n",
      "Slight positive         4.620192\n",
      "Name: Total Traded Quantity, dtype: float64 Trend\n",
      "Among top gainers       6.020\n",
      "Among top losers        6.515\n",
      "Bear drop               6.420\n",
      "Bull run               10.290\n",
      "Negative                4.385\n",
      "Positive                4.520\n",
      "Slight negative         3.810\n",
      "Slight or No change     3.680\n",
      "Slight positive         4.265\n",
      "Name: Total Traded Quantity, dtype: float64\n"
     ]
    }
   ],
   "source": [
    "cal = data.groupby(data['Trend'])\n",
    "avg = cal['Total Traded Quantity'].mean()\n",
    "median = cal['Total Traded Quantity'].median()\n",
    "print(avg, median)\n"
   ]
  },
  {
   "cell_type": "code",
   "execution_count": 57,
   "metadata": {},
   "outputs": [],
   "source": [
    "data.to_csv('/home/deepak/Documents/week2.copy.csv',index = False)"
   ]
  },
  {
   "cell_type": "code",
   "execution_count": null,
   "metadata": {
    "scrolled": true
   },
   "outputs": [],
   "source": []
  },
  {
   "cell_type": "code",
   "execution_count": null,
   "metadata": {},
   "outputs": [],
   "source": [
    "a = [1,2,3]\n",
    "b =[2,3,5]\n",
    "x = [for i in b if i not in a]"
   ]
  }
 ],
 "metadata": {
  "kernelspec": {
   "display_name": "Python 3",
   "language": "python",
   "name": "python3"
  },
  "language_info": {
   "codemirror_mode": {
    "name": "ipython",
    "version": 3
   },
   "file_extension": ".py",
   "mimetype": "text/x-python",
   "name": "python",
   "nbconvert_exporter": "python",
   "pygments_lexer": "ipython3",
   "version": "3.8.2"
  }
 },
 "nbformat": 4,
 "nbformat_minor": 4
}
